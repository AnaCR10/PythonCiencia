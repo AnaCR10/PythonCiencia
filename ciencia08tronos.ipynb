{
 "cells": [
  {
   "cell_type": "code",
   "execution_count": 1,
   "metadata": {},
   "outputs": [],
   "source": [
    "import pandas as pd \n"
   ]
  },
  {
   "cell_type": "code",
   "execution_count": 6,
   "metadata": {},
   "outputs": [
    {
     "data": {
      "text/html": [
       "<div>\n",
       "<style scoped>\n",
       "    .dataframe tbody tr th:only-of-type {\n",
       "        vertical-align: middle;\n",
       "    }\n",
       "\n",
       "    .dataframe tbody tr th {\n",
       "        vertical-align: top;\n",
       "    }\n",
       "\n",
       "    .dataframe thead th {\n",
       "        text-align: right;\n",
       "    }\n",
       "</style>\n",
       "<table border=\"1\" class=\"dataframe\">\n",
       "  <thead>\n",
       "    <tr style=\"text-align: right;\">\n",
       "      <th></th>\n",
       "      <th>name</th>\n",
       "      <th>allegiance</th>\n",
       "      <th>season</th>\n",
       "      <th>episode</th>\n",
       "      <th>location</th>\n",
       "      <th>killer</th>\n",
       "      <th>killers_house</th>\n",
       "      <th>method</th>\n",
       "      <th>death_no</th>\n",
       "    </tr>\n",
       "  </thead>\n",
       "  <tbody>\n",
       "    <tr>\n",
       "      <th>0</th>\n",
       "      <td>Waymar Royce</td>\n",
       "      <td>Night's Watch</td>\n",
       "      <td>1</td>\n",
       "      <td>1</td>\n",
       "      <td>Beyond the Wall</td>\n",
       "      <td>White Walker</td>\n",
       "      <td>NaN</td>\n",
       "      <td>Ice sword</td>\n",
       "      <td>1</td>\n",
       "    </tr>\n",
       "    <tr>\n",
       "      <th>1</th>\n",
       "      <td>Gared</td>\n",
       "      <td>Night's Watch</td>\n",
       "      <td>1</td>\n",
       "      <td>1</td>\n",
       "      <td>Beyond the Wall</td>\n",
       "      <td>White Walker</td>\n",
       "      <td>NaN</td>\n",
       "      <td>Ice sword</td>\n",
       "      <td>2</td>\n",
       "    </tr>\n",
       "    <tr>\n",
       "      <th>2</th>\n",
       "      <td>Will</td>\n",
       "      <td>Night's Watch</td>\n",
       "      <td>1</td>\n",
       "      <td>1</td>\n",
       "      <td>Winterfell</td>\n",
       "      <td>Ned Stark</td>\n",
       "      <td>House Stark</td>\n",
       "      <td>Sword</td>\n",
       "      <td>3</td>\n",
       "    </tr>\n",
       "    <tr>\n",
       "      <th>3</th>\n",
       "      <td>Stag</td>\n",
       "      <td>NaN</td>\n",
       "      <td>1</td>\n",
       "      <td>1</td>\n",
       "      <td>Winterfell</td>\n",
       "      <td>Direwolf</td>\n",
       "      <td>NaN</td>\n",
       "      <td>Teeth</td>\n",
       "      <td>4</td>\n",
       "    </tr>\n",
       "    <tr>\n",
       "      <th>4</th>\n",
       "      <td>Direwolf</td>\n",
       "      <td>NaN</td>\n",
       "      <td>1</td>\n",
       "      <td>1</td>\n",
       "      <td>Winterfell</td>\n",
       "      <td>Stag</td>\n",
       "      <td>NaN</td>\n",
       "      <td>Antler</td>\n",
       "      <td>5</td>\n",
       "    </tr>\n",
       "    <tr>\n",
       "      <th>5</th>\n",
       "      <td>Jon Arryn</td>\n",
       "      <td>House Arryn</td>\n",
       "      <td>1</td>\n",
       "      <td>1</td>\n",
       "      <td>King's Landing</td>\n",
       "      <td>Lysa Arryn</td>\n",
       "      <td>House Arryn</td>\n",
       "      <td>Poison</td>\n",
       "      <td>6</td>\n",
       "    </tr>\n",
       "    <tr>\n",
       "      <th>6</th>\n",
       "      <td>Dothraki man</td>\n",
       "      <td>Dothraki</td>\n",
       "      <td>1</td>\n",
       "      <td>1</td>\n",
       "      <td>Pentos</td>\n",
       "      <td>Dothraki man</td>\n",
       "      <td>Dothraki</td>\n",
       "      <td>Arakh</td>\n",
       "      <td>7</td>\n",
       "    </tr>\n",
       "    <tr>\n",
       "      <th>7</th>\n",
       "      <td>Catspaw assassin</td>\n",
       "      <td>NaN</td>\n",
       "      <td>1</td>\n",
       "      <td>2</td>\n",
       "      <td>Winterfell</td>\n",
       "      <td>Summer</td>\n",
       "      <td>House Stark</td>\n",
       "      <td>Teeth</td>\n",
       "      <td>8</td>\n",
       "    </tr>\n",
       "    <tr>\n",
       "      <th>8</th>\n",
       "      <td>Mycah</td>\n",
       "      <td>Smallfolk</td>\n",
       "      <td>1</td>\n",
       "      <td>2</td>\n",
       "      <td>Kingsroad</td>\n",
       "      <td>Sandor \"the Hound\" Clegane</td>\n",
       "      <td>House Lannister</td>\n",
       "      <td>Sword</td>\n",
       "      <td>9</td>\n",
       "    </tr>\n",
       "    <tr>\n",
       "      <th>9</th>\n",
       "      <td>Lady</td>\n",
       "      <td>House Stark</td>\n",
       "      <td>1</td>\n",
       "      <td>2</td>\n",
       "      <td>Kingsroad</td>\n",
       "      <td>Ned Stark</td>\n",
       "      <td>House Stark</td>\n",
       "      <td>Knife</td>\n",
       "      <td>10</td>\n",
       "    </tr>\n",
       "  </tbody>\n",
       "</table>\n",
       "</div>"
      ],
      "text/plain": [
       "               name     allegiance  season  episode         location  \\\n",
       "0      Waymar Royce  Night's Watch       1        1  Beyond the Wall   \n",
       "1             Gared  Night's Watch       1        1  Beyond the Wall   \n",
       "2              Will  Night's Watch       1        1       Winterfell   \n",
       "3              Stag            NaN       1        1       Winterfell   \n",
       "4          Direwolf            NaN       1        1       Winterfell   \n",
       "5         Jon Arryn    House Arryn       1        1   King's Landing   \n",
       "6      Dothraki man       Dothraki       1        1           Pentos   \n",
       "7  Catspaw assassin            NaN       1        2       Winterfell   \n",
       "8             Mycah      Smallfolk       1        2        Kingsroad   \n",
       "9              Lady    House Stark       1        2        Kingsroad   \n",
       "\n",
       "                       killer    killers_house     method  death_no  \n",
       "0                White Walker              NaN  Ice sword         1  \n",
       "1                White Walker              NaN  Ice sword         2  \n",
       "2                   Ned Stark      House Stark      Sword         3  \n",
       "3                    Direwolf              NaN      Teeth         4  \n",
       "4                        Stag              NaN     Antler         5  \n",
       "5                  Lysa Arryn      House Arryn     Poison         6  \n",
       "6                Dothraki man         Dothraki      Arakh         7  \n",
       "7                      Summer      House Stark      Teeth         8  \n",
       "8  Sandor \"the Hound\" Clegane  House Lannister      Sword         9  \n",
       "9                   Ned Stark      House Stark      Knife        10  "
      ]
     },
     "execution_count": 6,
     "metadata": {},
     "output_type": "execute_result"
    }
   ],
   "source": [
    "df = pd.read_csv('Data/game_of_thrones_deaths_collecti.csv')\n",
    "df.head(10)"
   ]
  },
  {
   "cell_type": "markdown",
   "metadata": {},
   "source": [
    "estos datos contienen todos los asesinatos que han sucedido en Juego de Tronos en cada temporada.\n",
    "name: nombre de la víctima\n",
    "allegiance: La alianza de la víctima\n",
    "season: Temporada\n",
    "espisode: Nº de episodio\n",
    "location: localización\n",
    "killer: asesino\n",
    "killer_house: casa a la que pertenece el asesino\n",
    "method: tipo de asesinato\n",
    "death_no: nº de muerte en la serie\n"
   ]
  },
  {
   "cell_type": "markdown",
   "metadata": {},
   "source": [
    "necesito saber los datos con NaN.\n",
    "Si son datos string los ponemos como Desconocido\n",
    "Si son datos numéricos los ponemos como 0"
   ]
  },
  {
   "cell_type": "code",
   "execution_count": 7,
   "metadata": {},
   "outputs": [
    {
     "name": "stdout",
     "output_type": "stream",
     "text": [
      "<class 'pandas.core.frame.DataFrame'>\n",
      "RangeIndex: 2224 entries, 0 to 2223\n",
      "Data columns (total 9 columns):\n",
      " #   Column         Non-Null Count  Dtype \n",
      "---  ------         --------------  ----- \n",
      " 0   name           2224 non-null   object\n",
      " 1   allegiance     1792 non-null   object\n",
      " 2   season         2224 non-null   int64 \n",
      " 3   episode        2224 non-null   int64 \n",
      " 4   location       2224 non-null   object\n",
      " 5   killer         2214 non-null   object\n",
      " 6   killers_house  2194 non-null   object\n",
      " 7   method         2224 non-null   object\n",
      " 8   death_no       2224 non-null   int64 \n",
      "dtypes: int64(3), object(6)\n",
      "memory usage: 156.5+ KB\n"
     ]
    }
   ],
   "source": [
    "df.info()"
   ]
  },
  {
   "cell_type": "code",
   "execution_count": 9,
   "metadata": {},
   "outputs": [
    {
     "data": {
      "text/plain": [
       "name             2224\n",
       "allegiance       2224\n",
       "season           2224\n",
       "episode          2224\n",
       "location         2224\n",
       "killer           2224\n",
       "killers_house    2224\n",
       "method           2224\n",
       "death_no         2224\n",
       "dtype: int64"
      ]
     },
     "execution_count": 9,
     "metadata": {},
     "output_type": "execute_result"
    }
   ],
   "source": [
    "df = df.fillna({\"allegiance\":'Desconocido',\"killers_house\": 'Desconocido', \"killer\":'Desconocido'})\n",
    "df.count()\n"
   ]
  },
  {
   "cell_type": "markdown",
   "metadata": {},
   "source": [
    "Me gustaría saber el número de muertes totales y también saber el número de muertes que hubo en la primera temporada."
   ]
  },
  {
   "cell_type": "markdown",
   "metadata": {},
   "source": [
    "Quiero saber el impacto de muertes de la Temporada 1 respecto al conjunto de asesinatos (personas muertas en la Temp1/muertes totales)"
   ]
  },
  {
   "cell_type": "code",
   "execution_count": 11,
   "metadata": {},
   "outputs": [
    {
     "data": {
      "text/plain": [
       "2224"
      ]
     },
     "execution_count": 11,
     "metadata": {},
     "output_type": "execute_result"
    }
   ],
   "source": [
    "muertes_totales = df.shape[0]\n",
    "muertes_totales"
   ]
  },
  {
   "cell_type": "code",
   "execution_count": 14,
   "metadata": {},
   "outputs": [
    {
     "data": {
      "text/plain": [
       "58"
      ]
     },
     "execution_count": 14,
     "metadata": {},
     "output_type": "execute_result"
    }
   ],
   "source": [
    "muertes_temp1 = df[df.season == 1]\n",
    "muertos_t1 = muertes_temp1.shape[0]\n",
    "muertos_t1"
   ]
  },
  {
   "cell_type": "code",
   "execution_count": 19,
   "metadata": {},
   "outputs": [
    {
     "name": "stdout",
     "output_type": "stream",
     "text": [
      "El impacto de muertes de la temporada 1 fue de: 2.61%\n"
     ]
    }
   ],
   "source": [
    "Impacto_temp1 =round( muertos_t1/muertes_totales*100,2)\n",
    "print(f\"El impacto de muertes de la temporada 1 fue de: {Impacto_temp1}%\")"
   ]
  },
  {
   "cell_type": "markdown",
   "metadata": {},
   "source": [
    "Necesito recuperar los datos de muertes de la Temp 2 y 3, el impacto en la serie y realizar un diccionario y ponerlo en un DataFrame nuevo\n"
   ]
  },
  {
   "cell_type": "code",
   "execution_count": 20,
   "metadata": {},
   "outputs": [
    {
     "data": {
      "text/plain": [
       "130"
      ]
     },
     "execution_count": 20,
     "metadata": {},
     "output_type": "execute_result"
    }
   ],
   "source": [
    "muertes_temp2 = df[df.season == 2]\n",
    "muertes_temp2 = muertes_temp2.shape[0]\n",
    "muertes_temp2"
   ]
  },
  {
   "cell_type": "code",
   "execution_count": 21,
   "metadata": {},
   "outputs": [
    {
     "data": {
      "text/plain": [
       "86"
      ]
     },
     "execution_count": 21,
     "metadata": {},
     "output_type": "execute_result"
    }
   ],
   "source": [
    "muertes_temp3 = df[df.season == 3]\n",
    "muertes_temp3 = muertes_temp3.shape[0]\n",
    "muertes_temp3"
   ]
  },
  {
   "cell_type": "code",
   "execution_count": 23,
   "metadata": {},
   "outputs": [
    {
     "name": "stdout",
     "output_type": "stream",
     "text": [
      "El impacto de muertes de la temporada 2 fue de: 5.85%\n"
     ]
    }
   ],
   "source": [
    "Impacto_temp2 =round( muertes_temp2/muertes_totales*100,2)\n",
    "print(f\"El impacto de muertes de la temporada 2 fue de: {Impacto_temp2}%\")"
   ]
  },
  {
   "cell_type": "code",
   "execution_count": 24,
   "metadata": {},
   "outputs": [
    {
     "name": "stdout",
     "output_type": "stream",
     "text": [
      "El impacto de muertes de la temporada 3 fue de: 3.87%\n"
     ]
    }
   ],
   "source": [
    "Impacto_temp3 =round( muertes_temp3/muertes_totales*100,2)\n",
    "print(f\"El impacto de muertes de la temporada 3 fue de: {Impacto_temp3}%\")"
   ]
  },
  {
   "cell_type": "markdown",
   "metadata": {},
   "source": [
    "Almacenamos los datos en un diccionario\n",
    "data = {\n",
    "    'Datos': ['pasajeros totales','Supervivientes', 'fallecidos']\n",
    "         ,'Valores':[pasajeros,num_survived,num_fallecidos]\n",
    "         }\n",
    "df_estadistica= pd.DataFrame.from_dict(data)\n",
    "df_estadistica"
   ]
  },
  {
   "cell_type": "code",
   "execution_count": 27,
   "metadata": {},
   "outputs": [
    {
     "data": {
      "text/html": [
       "<div>\n",
       "<style scoped>\n",
       "    .dataframe tbody tr th:only-of-type {\n",
       "        vertical-align: middle;\n",
       "    }\n",
       "\n",
       "    .dataframe tbody tr th {\n",
       "        vertical-align: top;\n",
       "    }\n",
       "\n",
       "    .dataframe thead th {\n",
       "        text-align: right;\n",
       "    }\n",
       "</style>\n",
       "<table border=\"1\" class=\"dataframe\">\n",
       "  <thead>\n",
       "    <tr style=\"text-align: right;\">\n",
       "      <th></th>\n",
       "      <th>Datos</th>\n",
       "      <th>Muertes</th>\n",
       "      <th>Valores</th>\n",
       "    </tr>\n",
       "  </thead>\n",
       "  <tbody>\n",
       "    <tr>\n",
       "      <th>0</th>\n",
       "      <td>Impacto_temp1</td>\n",
       "      <td>58</td>\n",
       "      <td>2.61</td>\n",
       "    </tr>\n",
       "    <tr>\n",
       "      <th>1</th>\n",
       "      <td>Impacto_temp2</td>\n",
       "      <td>130</td>\n",
       "      <td>5.85</td>\n",
       "    </tr>\n",
       "    <tr>\n",
       "      <th>2</th>\n",
       "      <td>Impacto_temp3</td>\n",
       "      <td>86</td>\n",
       "      <td>3.87</td>\n",
       "    </tr>\n",
       "  </tbody>\n",
       "</table>\n",
       "</div>"
      ],
      "text/plain": [
       "           Datos  Muertes  Valores\n",
       "0  Impacto_temp1       58     2.61\n",
       "1  Impacto_temp2      130     5.85\n",
       "2  Impacto_temp3       86     3.87"
      ]
     },
     "execution_count": 27,
     "metadata": {},
     "output_type": "execute_result"
    }
   ],
   "source": [
    "data = {\n",
    "    'Datos': ['Impacto_temp1','Impacto_temp2', 'Impacto_temp3']\n",
    "         ,'Muertes': [muertos_t1,muertes_temp2,muertes_temp3]\n",
    "         ,'Valores':[Impacto_temp1,Impacto_temp2,Impacto_temp3] \n",
    "         }\n",
    "df_estadistica= pd.DataFrame.from_dict(data)\n",
    "df_estadistica"
   ]
  },
  {
   "cell_type": "markdown",
   "metadata": {},
   "source": [
    "realizar un gráfico para visualizar las temportadas"
   ]
  },
  {
   "cell_type": "code",
   "execution_count": 28,
   "metadata": {},
   "outputs": [
    {
     "data": {
      "text/plain": [
       "<Axes: xlabel='Datos'>"
      ]
     },
     "execution_count": 28,
     "metadata": {},
     "output_type": "execute_result"
    },
    {
     "data": {
      "image/png": "[encoded data removed]",
      "text/plain": [
       "<Figure size 640x480 with 1 Axes>"
      ]
     },
     "metadata": {},
     "output_type": "display_data"
    }
   ],
   "source": [
    "df_estadistica.plot(kind=\"bar\",x=\"Datos\", y=\"Valores\")"
   ]
  },
  {
   "cell_type": "markdown",
   "metadata": {},
   "source": [
    "No me creo etos datos, Python no es tan listo\n",
    "Me gustaría visualizar el nº de muertes por temporada\n",
    "Agrupar el nº de muertes por temporada."
   ]
  },
  {
   "cell_type": "code",
   "execution_count": 29,
   "metadata": {},
   "outputs": [
    {
     "data": {
      "text/plain": [
       "season\n",
       "8    892\n",
       "6    396\n",
       "7    334\n",
       "4    170\n",
       "5    158\n",
       "2    130\n",
       "3     86\n",
       "1     58\n",
       "Name: count, dtype: int64"
      ]
     },
     "execution_count": 29,
     "metadata": {},
     "output_type": "execute_result"
    }
   ],
   "source": [
    "df['season'].value_counts()"
   ]
  },
  {
   "cell_type": "code",
   "execution_count": 37,
   "metadata": {},
   "outputs": [
    {
     "data": {
      "text/html": [
       "<div>\n",
       "<style scoped>\n",
       "    .dataframe tbody tr th:only-of-type {\n",
       "        vertical-align: middle;\n",
       "    }\n",
       "\n",
       "    .dataframe tbody tr th {\n",
       "        vertical-align: top;\n",
       "    }\n",
       "\n",
       "    .dataframe thead th {\n",
       "        text-align: right;\n",
       "    }\n",
       "</style>\n",
       "<table border=\"1\" class=\"dataframe\">\n",
       "  <thead>\n",
       "    <tr style=\"text-align: right;\">\n",
       "      <th></th>\n",
       "      <th>count</th>\n",
       "      <th>unique</th>\n",
       "      <th>top</th>\n",
       "      <th>freq</th>\n",
       "    </tr>\n",
       "    <tr>\n",
       "      <th>season</th>\n",
       "      <th></th>\n",
       "      <th></th>\n",
       "      <th></th>\n",
       "      <th></th>\n",
       "    </tr>\n",
       "  </thead>\n",
       "  <tbody>\n",
       "    <tr>\n",
       "      <th>1</th>\n",
       "      <td>58</td>\n",
       "      <td>30</td>\n",
       "      <td>Lannister soldier</td>\n",
       "      <td>8</td>\n",
       "    </tr>\n",
       "    <tr>\n",
       "      <th>2</th>\n",
       "      <td>130</td>\n",
       "      <td>32</td>\n",
       "      <td>Baratheon of King's Landing soldier</td>\n",
       "      <td>32</td>\n",
       "    </tr>\n",
       "    <tr>\n",
       "      <th>3</th>\n",
       "      <td>86</td>\n",
       "      <td>27</td>\n",
       "      <td>Frey soldier</td>\n",
       "      <td>27</td>\n",
       "    </tr>\n",
       "    <tr>\n",
       "      <th>4</th>\n",
       "      <td>170</td>\n",
       "      <td>39</td>\n",
       "      <td>Night's Watch brother</td>\n",
       "      <td>39</td>\n",
       "    </tr>\n",
       "    <tr>\n",
       "      <th>5</th>\n",
       "      <td>158</td>\n",
       "      <td>30</td>\n",
       "      <td>Sons of the Harpy agent</td>\n",
       "      <td>27</td>\n",
       "    </tr>\n",
       "    <tr>\n",
       "      <th>6</th>\n",
       "      <td>396</td>\n",
       "      <td>36</td>\n",
       "      <td>Cersei Lannister</td>\n",
       "      <td>198</td>\n",
       "    </tr>\n",
       "    <tr>\n",
       "      <th>7</th>\n",
       "      <td>334</td>\n",
       "      <td>21</td>\n",
       "      <td>Daenerys Targaryen</td>\n",
       "      <td>182</td>\n",
       "    </tr>\n",
       "    <tr>\n",
       "      <th>8</th>\n",
       "      <td>892</td>\n",
       "      <td>18</td>\n",
       "      <td>Daenerys Targaryen</td>\n",
       "      <td>773</td>\n",
       "    </tr>\n",
       "  </tbody>\n",
       "</table>\n",
       "</div>"
      ],
      "text/plain": [
       "       count unique                                  top freq\n",
       "season                                                       \n",
       "1         58     30                    Lannister soldier    8\n",
       "2        130     32  Baratheon of King's Landing soldier   32\n",
       "3         86     27                         Frey soldier   27\n",
       "4        170     39                Night's Watch brother   39\n",
       "5        158     30              Sons of the Harpy agent   27\n",
       "6        396     36                     Cersei Lannister  198\n",
       "7        334     21                   Daenerys Targaryen  182\n",
       "8        892     18                   Daenerys Targaryen  773"
      ]
     },
     "execution_count": 37,
     "metadata": {},
     "output_type": "execute_result"
    }
   ],
   "source": [
    "grupo_season= df.groupby('season')['killer']\n",
    "grupo_season.describe()"
   ]
  },
  {
   "cell_type": "markdown",
   "metadata": {},
   "source": [
    "Agrupamos un dataFrame por asesino"
   ]
  },
  {
   "cell_type": "code",
   "execution_count": 39,
   "metadata": {},
   "outputs": [
    {
     "data": {
      "text/html": [
       "<div>\n",
       "<style scoped>\n",
       "    .dataframe tbody tr th:only-of-type {\n",
       "        vertical-align: middle;\n",
       "    }\n",
       "\n",
       "    .dataframe tbody tr th {\n",
       "        vertical-align: top;\n",
       "    }\n",
       "\n",
       "    .dataframe thead th {\n",
       "        text-align: right;\n",
       "    }\n",
       "</style>\n",
       "<table border=\"1\" class=\"dataframe\">\n",
       "  <thead>\n",
       "    <tr style=\"text-align: right;\">\n",
       "      <th></th>\n",
       "      <th>name</th>\n",
       "      <th>allegiance</th>\n",
       "      <th>season</th>\n",
       "      <th>episode</th>\n",
       "      <th>location</th>\n",
       "      <th>killers_house</th>\n",
       "      <th>method</th>\n",
       "      <th>death_no</th>\n",
       "    </tr>\n",
       "    <tr>\n",
       "      <th>killer</th>\n",
       "      <th></th>\n",
       "      <th></th>\n",
       "      <th></th>\n",
       "      <th></th>\n",
       "      <th></th>\n",
       "      <th></th>\n",
       "      <th></th>\n",
       "      <th></th>\n",
       "    </tr>\n",
       "  </thead>\n",
       "  <tbody>\n",
       "    <tr>\n",
       "      <th>Accident</th>\n",
       "      <td>Baratheon of Dragonstone soldier</td>\n",
       "      <td>House Baratheon of Dragonstone</td>\n",
       "      <td>2</td>\n",
       "      <td>9</td>\n",
       "      <td>King's Landing</td>\n",
       "      <td>Unknown</td>\n",
       "      <td>Blunt object</td>\n",
       "      <td>120</td>\n",
       "    </tr>\n",
       "    <tr>\n",
       "      <th>Aemon Targaryen</th>\n",
       "      <td>Aemon Targaryen</td>\n",
       "      <td>Night's Watch</td>\n",
       "      <td>5</td>\n",
       "      <td>7</td>\n",
       "      <td>Castle Black</td>\n",
       "      <td>Night's Watch</td>\n",
       "      <td>Old Age</td>\n",
       "      <td>511</td>\n",
       "    </tr>\n",
       "    <tr>\n",
       "      <th>Alliser Thorne</th>\n",
       "      <td>WildlingThenn raiderWildling</td>\n",
       "      <td>Free FolkFree FolkFree Folk</td>\n",
       "      <td>12</td>\n",
       "      <td>27</td>\n",
       "      <td>Castle BlackCastle BlackCastle Black</td>\n",
       "      <td>Night's WatchNight's WatchNight's Watch</td>\n",
       "      <td>SwordSwordSword</td>\n",
       "      <td>1089</td>\n",
       "    </tr>\n",
       "    <tr>\n",
       "      <th>Amory Lorch</th>\n",
       "      <td>Yoren</td>\n",
       "      <td>Night's Watch</td>\n",
       "      <td>2</td>\n",
       "      <td>3</td>\n",
       "      <td>Riverlands</td>\n",
       "      <td>House Lannister</td>\n",
       "      <td>Sword</td>\n",
       "      <td>72</td>\n",
       "    </tr>\n",
       "    <tr>\n",
       "      <th>Arthur Dayne</th>\n",
       "      <td>Stark soldierStark soldierStark soldier</td>\n",
       "      <td>House StarkHouse StarkHouse Stark</td>\n",
       "      <td>18</td>\n",
       "      <td>9</td>\n",
       "      <td>DorneDorneDorne</td>\n",
       "      <td>House TargaryenHouse TargaryenHouse Targaryen</td>\n",
       "      <td>SwordSwordSword</td>\n",
       "      <td>1863</td>\n",
       "    </tr>\n",
       "    <tr>\n",
       "      <th>...</th>\n",
       "      <td>...</td>\n",
       "      <td>...</td>\n",
       "      <td>...</td>\n",
       "      <td>...</td>\n",
       "      <td>...</td>\n",
       "      <td>...</td>\n",
       "      <td>...</td>\n",
       "      <td>...</td>\n",
       "    </tr>\n",
       "    <tr>\n",
       "      <th>Wildling giant</th>\n",
       "      <td>Night's Watch brotherGrenn</td>\n",
       "      <td>Night's WatchNight's Watch</td>\n",
       "      <td>8</td>\n",
       "      <td>18</td>\n",
       "      <td>The WallCastle Black</td>\n",
       "      <td>Free FolkFree Folk</td>\n",
       "      <td>Giant arrowUnknown</td>\n",
       "      <td>760</td>\n",
       "    </tr>\n",
       "    <tr>\n",
       "      <th>Wun Wun</th>\n",
       "      <td>Night's Watch brotherBolton soldierBolton soldier</td>\n",
       "      <td>Night's WatchHouse BoltonHouse Bolton</td>\n",
       "      <td>18</td>\n",
       "      <td>20</td>\n",
       "      <td>Castle BlackWinterfellWinterfell</td>\n",
       "      <td>Free FolkFree FolkFree Folk</td>\n",
       "      <td>HandsHandsHands</td>\n",
       "      <td>2124</td>\n",
       "    </tr>\n",
       "    <tr>\n",
       "      <th>Yara Greyjoy</th>\n",
       "      <td>Bolton soldierBolton soldierBolton soldierGrey...</td>\n",
       "      <td>House BoltonHouse BoltonHouse BoltonHouse Grey...</td>\n",
       "      <td>68</td>\n",
       "      <td>34</td>\n",
       "      <td>DreadfortDreadfortDreadfortThe Narrow SeaThe N...</td>\n",
       "      <td>House GreyjoyHouse GreyjoyHouse GreyjoyHouse G...</td>\n",
       "      <td>AxeAxeAxeSwordSwordSwordSwordSwordSwordSwordSword</td>\n",
       "      <td>9482</td>\n",
       "    </tr>\n",
       "    <tr>\n",
       "      <th>Ygritte</th>\n",
       "      <td>Horse breederGuymonPeasantPeasantPeasantPeasan...</td>\n",
       "      <td>Night's WatchSmallfolkSmallfolkSmallfolkSmallf...</td>\n",
       "      <td>55</td>\n",
       "      <td>110</td>\n",
       "      <td>The GiftThe GiftThe GiftMole's TownMole's Town...</td>\n",
       "      <td>Free FolkFree FolkFree FolkFree FolkFree FolkF...</td>\n",
       "      <td>ArrowArrowSwordSpearSpearSpearKnifeFlaming arr...</td>\n",
       "      <td>4662</td>\n",
       "    </tr>\n",
       "    <tr>\n",
       "      <th>Yoren</th>\n",
       "      <td>Lannister soldierLannister soldierLannister so...</td>\n",
       "      <td>House LannisterHouse LannisterHouse LannisterH...</td>\n",
       "      <td>10</td>\n",
       "      <td>15</td>\n",
       "      <td>RiverlandsRiverlandsRiverlandsRiverlandsRiverl...</td>\n",
       "      <td>Night's WatchNight's WatchNight's WatchNight's...</td>\n",
       "      <td>SwordSwordSwordSwordSword</td>\n",
       "      <td>345</td>\n",
       "    </tr>\n",
       "  </tbody>\n",
       "</table>\n",
       "<p>129 rows × 8 columns</p>\n",
       "</div>"
      ],
      "text/plain": [
       "                                                              name  \\\n",
       "killer                                                               \n",
       "Accident                          Baratheon of Dragonstone soldier   \n",
       "Aemon Targaryen                                    Aemon Targaryen   \n",
       "Alliser Thorne                        WildlingThenn raiderWildling   \n",
       "Amory Lorch                                                  Yoren   \n",
       "Arthur Dayne               Stark soldierStark soldierStark soldier   \n",
       "...                                                            ...   \n",
       "Wildling giant                          Night's Watch brotherGrenn   \n",
       "Wun Wun          Night's Watch brotherBolton soldierBolton soldier   \n",
       "Yara Greyjoy     Bolton soldierBolton soldierBolton soldierGrey...   \n",
       "Ygritte          Horse breederGuymonPeasantPeasantPeasantPeasan...   \n",
       "Yoren            Lannister soldierLannister soldierLannister so...   \n",
       "\n",
       "                                                        allegiance  season  \\\n",
       "killer                                                                       \n",
       "Accident                            House Baratheon of Dragonstone       2   \n",
       "Aemon Targaryen                                      Night's Watch       5   \n",
       "Alliser Thorne                         Free FolkFree FolkFree Folk      12   \n",
       "Amory Lorch                                          Night's Watch       2   \n",
       "Arthur Dayne                     House StarkHouse StarkHouse Stark      18   \n",
       "...                                                            ...     ...   \n",
       "Wildling giant                          Night's WatchNight's Watch       8   \n",
       "Wun Wun                      Night's WatchHouse BoltonHouse Bolton      18   \n",
       "Yara Greyjoy     House BoltonHouse BoltonHouse BoltonHouse Grey...      68   \n",
       "Ygritte          Night's WatchSmallfolkSmallfolkSmallfolkSmallf...      55   \n",
       "Yoren            House LannisterHouse LannisterHouse LannisterH...      10   \n",
       "\n",
       "                 episode                                           location  \\\n",
       "killer                                                                        \n",
       "Accident               9                                     King's Landing   \n",
       "Aemon Targaryen        7                                       Castle Black   \n",
       "Alliser Thorne        27               Castle BlackCastle BlackCastle Black   \n",
       "Amory Lorch            3                                         Riverlands   \n",
       "Arthur Dayne           9                                    DorneDorneDorne   \n",
       "...                  ...                                                ...   \n",
       "Wildling giant        18                               The WallCastle Black   \n",
       "Wun Wun               20                   Castle BlackWinterfellWinterfell   \n",
       "Yara Greyjoy          34  DreadfortDreadfortDreadfortThe Narrow SeaThe N...   \n",
       "Ygritte              110  The GiftThe GiftThe GiftMole's TownMole's Town...   \n",
       "Yoren                 15  RiverlandsRiverlandsRiverlandsRiverlandsRiverl...   \n",
       "\n",
       "                                                     killers_house  \\\n",
       "killer                                                               \n",
       "Accident                                                   Unknown   \n",
       "Aemon Targaryen                                      Night's Watch   \n",
       "Alliser Thorne             Night's WatchNight's WatchNight's Watch   \n",
       "Amory Lorch                                        House Lannister   \n",
       "Arthur Dayne         House TargaryenHouse TargaryenHouse Targaryen   \n",
       "...                                                            ...   \n",
       "Wildling giant                                  Free FolkFree Folk   \n",
       "Wun Wun                                Free FolkFree FolkFree Folk   \n",
       "Yara Greyjoy     House GreyjoyHouse GreyjoyHouse GreyjoyHouse G...   \n",
       "Ygritte          Free FolkFree FolkFree FolkFree FolkFree FolkF...   \n",
       "Yoren            Night's WatchNight's WatchNight's WatchNight's...   \n",
       "\n",
       "                                                            method  death_no  \n",
       "killer                                                                        \n",
       "Accident                                              Blunt object       120  \n",
       "Aemon Targaryen                                            Old Age       511  \n",
       "Alliser Thorne                                     SwordSwordSword      1089  \n",
       "Amory Lorch                                                  Sword        72  \n",
       "Arthur Dayne                                       SwordSwordSword      1863  \n",
       "...                                                            ...       ...  \n",
       "Wildling giant                                  Giant arrowUnknown       760  \n",
       "Wun Wun                                            HandsHandsHands      2124  \n",
       "Yara Greyjoy     AxeAxeAxeSwordSwordSwordSwordSwordSwordSwordSword      9482  \n",
       "Ygritte          ArrowArrowSwordSpearSpearSpearKnifeFlaming arr...      4662  \n",
       "Yoren                                    SwordSwordSwordSwordSword       345  \n",
       "\n",
       "[129 rows x 8 columns]"
      ]
     },
     "execution_count": 39,
     "metadata": {},
     "output_type": "execute_result"
    }
   ],
   "source": [
    "df_killer= df.groupby('killer').sum()\n",
    "df_killer"
   ]
  },
  {
   "cell_type": "markdown",
   "metadata": {},
   "source": [
    "Me gustaría visualizar el assesino y el nº de muertes"
   ]
  },
  {
   "cell_type": "code",
   "execution_count": 41,
   "metadata": {},
   "outputs": [
    {
     "data": {
      "text/html": [
       "<div>\n",
       "<style scoped>\n",
       "    .dataframe tbody tr th:only-of-type {\n",
       "        vertical-align: middle;\n",
       "    }\n",
       "\n",
       "    .dataframe tbody tr th {\n",
       "        vertical-align: top;\n",
       "    }\n",
       "\n",
       "    .dataframe thead th {\n",
       "        text-align: right;\n",
       "    }\n",
       "</style>\n",
       "<table border=\"1\" class=\"dataframe\">\n",
       "  <thead>\n",
       "    <tr style=\"text-align: right;\">\n",
       "      <th></th>\n",
       "      <th>count</th>\n",
       "    </tr>\n",
       "    <tr>\n",
       "      <th>killer</th>\n",
       "      <th></th>\n",
       "    </tr>\n",
       "  </thead>\n",
       "  <tbody>\n",
       "    <tr>\n",
       "      <th>Accident</th>\n",
       "      <td>1</td>\n",
       "    </tr>\n",
       "    <tr>\n",
       "      <th>Aemon Targaryen</th>\n",
       "      <td>1</td>\n",
       "    </tr>\n",
       "    <tr>\n",
       "      <th>Alliser Thorne</th>\n",
       "      <td>3</td>\n",
       "    </tr>\n",
       "    <tr>\n",
       "      <th>Amory Lorch</th>\n",
       "      <td>1</td>\n",
       "    </tr>\n",
       "    <tr>\n",
       "      <th>Arthur Dayne</th>\n",
       "      <td>3</td>\n",
       "    </tr>\n",
       "    <tr>\n",
       "      <th>...</th>\n",
       "      <td>...</td>\n",
       "    </tr>\n",
       "    <tr>\n",
       "      <th>Wildling giant</th>\n",
       "      <td>2</td>\n",
       "    </tr>\n",
       "    <tr>\n",
       "      <th>Wun Wun</th>\n",
       "      <td>3</td>\n",
       "    </tr>\n",
       "    <tr>\n",
       "      <th>Yara Greyjoy</th>\n",
       "      <td>11</td>\n",
       "    </tr>\n",
       "    <tr>\n",
       "      <th>Ygritte</th>\n",
       "      <td>14</td>\n",
       "    </tr>\n",
       "    <tr>\n",
       "      <th>Yoren</th>\n",
       "      <td>5</td>\n",
       "    </tr>\n",
       "  </tbody>\n",
       "</table>\n",
       "<p>129 rows × 1 columns</p>\n",
       "</div>"
      ],
      "text/plain": [
       "                 count\n",
       "killer                \n",
       "Accident             1\n",
       "Aemon Targaryen      1\n",
       "Alliser Thorne       3\n",
       "Amory Lorch          1\n",
       "Arthur Dayne         3\n",
       "...                ...\n",
       "Wildling giant       2\n",
       "Wun Wun              3\n",
       "Yara Greyjoy        11\n",
       "Ygritte             14\n",
       "Yoren                5\n",
       "\n",
       "[129 rows x 1 columns]"
      ]
     },
     "execution_count": 41,
     "metadata": {},
     "output_type": "execute_result"
    }
   ],
   "source": [
    "df_killer=df.groupby('killer')['death_no'].agg(['count'])\n",
    "df_killer"
   ]
  },
  {
   "cell_type": "markdown",
   "metadata": {},
   "source": [
    "mostrar un gráfico Pie con los 10 primeros asesinos"
   ]
  },
  {
   "cell_type": "code",
   "execution_count": 45,
   "metadata": {},
   "outputs": [
    {
     "data": {
      "text/plain": [
       "<Axes: ylabel='count'>"
      ]
     },
     "execution_count": 45,
     "metadata": {},
     "output_type": "execute_result"
    },
    {
     "data": {
      "image/png": "[encoded data removed]",
      "text/plain": [
       "<Figure size 640x480 with 1 Axes>"
      ]
     },
     "metadata": {},
     "output_type": "display_data"
    }
   ],
   "source": [
    "df_primeros=df_killer.head(10)\n",
    "df_primeros.groupby('killer').sum().plot(kind='pie', y='count')\n"
   ]
  },
  {
   "cell_type": "markdown",
   "metadata": {},
   "source": [
    "1) Queremos saber el nº de muertes de Daenerys Targaryen\n",
    "2) Mostrar las muertes de Daenerys Targaryen en un dataFrame\n",
    "3) Visualizar las muertes de Daenerys Targaryen por Temporada\n",
    "4) Mostrar la evolución de nuestra asesina por temporada en un gráfico de barras."
   ]
  },
  {
   "cell_type": "code",
   "execution_count": 46,
   "metadata": {},
   "outputs": [
    {
     "data": {
      "text/plain": [
       "1008"
      ]
     },
     "execution_count": 46,
     "metadata": {},
     "output_type": "execute_result"
    }
   ],
   "source": [
    "Dan_muertes = df[df.killer == 'Daenerys Targaryen']\n",
    "muertes_dan = Dan_muertes.shape[0]\n",
    "muertes_dan"
   ]
  },
  {
   "cell_type": "code",
   "execution_count": 47,
   "metadata": {},
   "outputs": [
    {
     "data": {
      "text/html": [
       "<div>\n",
       "<style scoped>\n",
       "    .dataframe tbody tr th:only-of-type {\n",
       "        vertical-align: middle;\n",
       "    }\n",
       "\n",
       "    .dataframe tbody tr th {\n",
       "        vertical-align: top;\n",
       "    }\n",
       "\n",
       "    .dataframe thead th {\n",
       "        text-align: right;\n",
       "    }\n",
       "</style>\n",
       "<table border=\"1\" class=\"dataframe\">\n",
       "  <thead>\n",
       "    <tr style=\"text-align: right;\">\n",
       "      <th></th>\n",
       "      <th>name</th>\n",
       "      <th>allegiance</th>\n",
       "      <th>season</th>\n",
       "      <th>episode</th>\n",
       "      <th>location</th>\n",
       "      <th>killer</th>\n",
       "      <th>killers_house</th>\n",
       "      <th>method</th>\n",
       "      <th>death_no</th>\n",
       "    </tr>\n",
       "  </thead>\n",
       "  <tbody>\n",
       "    <tr>\n",
       "      <th>56</th>\n",
       "      <td>Khal Drogo</td>\n",
       "      <td>Dothraki</td>\n",
       "      <td>1</td>\n",
       "      <td>10</td>\n",
       "      <td>Red Waste</td>\n",
       "      <td>Daenerys Targaryen</td>\n",
       "      <td>House Targaryen</td>\n",
       "      <td>Pillow</td>\n",
       "      <td>57</td>\n",
       "    </tr>\n",
       "    <tr>\n",
       "      <th>57</th>\n",
       "      <td>Mirri Maz Duur</td>\n",
       "      <td>Desconocido</td>\n",
       "      <td>1</td>\n",
       "      <td>10</td>\n",
       "      <td>Red Waste</td>\n",
       "      <td>Daenerys Targaryen</td>\n",
       "      <td>House Targaryen</td>\n",
       "      <td>Fire</td>\n",
       "      <td>58</td>\n",
       "    </tr>\n",
       "    <tr>\n",
       "      <th>184</th>\n",
       "      <td>Pyat Pree</td>\n",
       "      <td>Warlocks of Qarth</td>\n",
       "      <td>2</td>\n",
       "      <td>10</td>\n",
       "      <td>Qarth</td>\n",
       "      <td>Daenerys Targaryen</td>\n",
       "      <td>House Targaryen</td>\n",
       "      <td>Dragonfire (Dragon)</td>\n",
       "      <td>185</td>\n",
       "    </tr>\n",
       "    <tr>\n",
       "      <th>186</th>\n",
       "      <td>Xaro Xhoan Daxos</td>\n",
       "      <td>The Thirteen</td>\n",
       "      <td>2</td>\n",
       "      <td>10</td>\n",
       "      <td>Qarth</td>\n",
       "      <td>Daenerys Targaryen</td>\n",
       "      <td>House Targaryen</td>\n",
       "      <td>Sealed into vault</td>\n",
       "      <td>187</td>\n",
       "    </tr>\n",
       "    <tr>\n",
       "      <th>187</th>\n",
       "      <td>Doreah</td>\n",
       "      <td>House Targaryen</td>\n",
       "      <td>2</td>\n",
       "      <td>10</td>\n",
       "      <td>Qarth</td>\n",
       "      <td>Daenerys Targaryen</td>\n",
       "      <td>House Targaryen</td>\n",
       "      <td>Sealed into vault</td>\n",
       "      <td>188</td>\n",
       "    </tr>\n",
       "    <tr>\n",
       "      <th>...</th>\n",
       "      <td>...</td>\n",
       "      <td>...</td>\n",
       "      <td>...</td>\n",
       "      <td>...</td>\n",
       "      <td>...</td>\n",
       "      <td>...</td>\n",
       "      <td>...</td>\n",
       "      <td>...</td>\n",
       "      <td>...</td>\n",
       "    </tr>\n",
       "    <tr>\n",
       "      <th>2207</th>\n",
       "      <td>King's Landing Citizen</td>\n",
       "      <td>Desconocido</td>\n",
       "      <td>8</td>\n",
       "      <td>5</td>\n",
       "      <td>King's Landing</td>\n",
       "      <td>Daenerys Targaryen</td>\n",
       "      <td>House Targaryen</td>\n",
       "      <td>Dragonfire (Dragon)</td>\n",
       "      <td>2208</td>\n",
       "    </tr>\n",
       "    <tr>\n",
       "      <th>2208</th>\n",
       "      <td>King's Landing Citizen</td>\n",
       "      <td>Desconocido</td>\n",
       "      <td>8</td>\n",
       "      <td>5</td>\n",
       "      <td>King's Landing</td>\n",
       "      <td>Daenerys Targaryen</td>\n",
       "      <td>House Targaryen</td>\n",
       "      <td>Dragonfire (Dragon)</td>\n",
       "      <td>2209</td>\n",
       "    </tr>\n",
       "    <tr>\n",
       "      <th>2209</th>\n",
       "      <td>King's Landing Citizen</td>\n",
       "      <td>Desconocido</td>\n",
       "      <td>8</td>\n",
       "      <td>5</td>\n",
       "      <td>King's Landing</td>\n",
       "      <td>Daenerys Targaryen</td>\n",
       "      <td>House Targaryen</td>\n",
       "      <td>Dragonfire (Dragon)</td>\n",
       "      <td>2210</td>\n",
       "    </tr>\n",
       "    <tr>\n",
       "      <th>2221</th>\n",
       "      <td>Jaime Lannister</td>\n",
       "      <td>House Lannister</td>\n",
       "      <td>8</td>\n",
       "      <td>5</td>\n",
       "      <td>King's Landing</td>\n",
       "      <td>Daenerys Targaryen</td>\n",
       "      <td>House Targaryen</td>\n",
       "      <td>Rubble</td>\n",
       "      <td>2222</td>\n",
       "    </tr>\n",
       "    <tr>\n",
       "      <th>2222</th>\n",
       "      <td>Cersei Lannister</td>\n",
       "      <td>House Lannister</td>\n",
       "      <td>8</td>\n",
       "      <td>5</td>\n",
       "      <td>King's Landing</td>\n",
       "      <td>Daenerys Targaryen</td>\n",
       "      <td>House Targaryen</td>\n",
       "      <td>Rubble</td>\n",
       "      <td>2223</td>\n",
       "    </tr>\n",
       "  </tbody>\n",
       "</table>\n",
       "<p>1008 rows × 9 columns</p>\n",
       "</div>"
      ],
      "text/plain": [
       "                        name         allegiance  season  episode  \\\n",
       "56                Khal Drogo           Dothraki       1       10   \n",
       "57            Mirri Maz Duur        Desconocido       1       10   \n",
       "184                Pyat Pree  Warlocks of Qarth       2       10   \n",
       "186         Xaro Xhoan Daxos       The Thirteen       2       10   \n",
       "187                   Doreah    House Targaryen       2       10   \n",
       "...                      ...                ...     ...      ...   \n",
       "2207  King's Landing Citizen        Desconocido       8        5   \n",
       "2208  King's Landing Citizen        Desconocido       8        5   \n",
       "2209  King's Landing Citizen        Desconocido       8        5   \n",
       "2221         Jaime Lannister    House Lannister       8        5   \n",
       "2222        Cersei Lannister    House Lannister       8        5   \n",
       "\n",
       "            location              killer    killers_house  \\\n",
       "56         Red Waste  Daenerys Targaryen  House Targaryen   \n",
       "57         Red Waste  Daenerys Targaryen  House Targaryen   \n",
       "184            Qarth  Daenerys Targaryen  House Targaryen   \n",
       "186            Qarth  Daenerys Targaryen  House Targaryen   \n",
       "187            Qarth  Daenerys Targaryen  House Targaryen   \n",
       "...              ...                 ...              ...   \n",
       "2207  King's Landing  Daenerys Targaryen  House Targaryen   \n",
       "2208  King's Landing  Daenerys Targaryen  House Targaryen   \n",
       "2209  King's Landing  Daenerys Targaryen  House Targaryen   \n",
       "2221  King's Landing  Daenerys Targaryen  House Targaryen   \n",
       "2222  King's Landing  Daenerys Targaryen  House Targaryen   \n",
       "\n",
       "                   method  death_no  \n",
       "56                 Pillow        57  \n",
       "57                   Fire        58  \n",
       "184   Dragonfire (Dragon)       185  \n",
       "186     Sealed into vault       187  \n",
       "187     Sealed into vault       188  \n",
       "...                   ...       ...  \n",
       "2207  Dragonfire (Dragon)      2208  \n",
       "2208  Dragonfire (Dragon)      2209  \n",
       "2209  Dragonfire (Dragon)      2210  \n",
       "2221               Rubble      2222  \n",
       "2222               Rubble      2223  \n",
       "\n",
       "[1008 rows x 9 columns]"
      ]
     },
     "execution_count": 47,
     "metadata": {},
     "output_type": "execute_result"
    }
   ],
   "source": [
    "Dan_muertes = df[df.killer == 'Daenerys Targaryen']\n",
    "Dan_muertes"
   ]
  },
  {
   "cell_type": "code",
   "execution_count": 54,
   "metadata": {},
   "outputs": [
    {
     "data": {
      "text/html": [
       "<div>\n",
       "<style scoped>\n",
       "    .dataframe tbody tr th:only-of-type {\n",
       "        vertical-align: middle;\n",
       "    }\n",
       "\n",
       "    .dataframe tbody tr th {\n",
       "        vertical-align: top;\n",
       "    }\n",
       "\n",
       "    .dataframe thead th {\n",
       "        text-align: right;\n",
       "    }\n",
       "</style>\n",
       "<table border=\"1\" class=\"dataframe\">\n",
       "  <thead>\n",
       "    <tr style=\"text-align: right;\">\n",
       "      <th></th>\n",
       "      <th>count</th>\n",
       "    </tr>\n",
       "    <tr>\n",
       "      <th>season</th>\n",
       "      <th></th>\n",
       "    </tr>\n",
       "  </thead>\n",
       "  <tbody>\n",
       "    <tr>\n",
       "      <th>1</th>\n",
       "      <td>2</td>\n",
       "    </tr>\n",
       "    <tr>\n",
       "      <th>2</th>\n",
       "      <td>3</td>\n",
       "    </tr>\n",
       "    <tr>\n",
       "      <th>3</th>\n",
       "      <td>1</td>\n",
       "    </tr>\n",
       "    <tr>\n",
       "      <th>4</th>\n",
       "      <td>2</td>\n",
       "    </tr>\n",
       "    <tr>\n",
       "      <th>5</th>\n",
       "      <td>18</td>\n",
       "    </tr>\n",
       "    <tr>\n",
       "      <th>6</th>\n",
       "      <td>27</td>\n",
       "    </tr>\n",
       "    <tr>\n",
       "      <th>7</th>\n",
       "      <td>182</td>\n",
       "    </tr>\n",
       "    <tr>\n",
       "      <th>8</th>\n",
       "      <td>773</td>\n",
       "    </tr>\n",
       "  </tbody>\n",
       "</table>\n",
       "</div>"
      ],
      "text/plain": [
       "        count\n",
       "season       \n",
       "1           2\n",
       "2           3\n",
       "3           1\n",
       "4           2\n",
       "5          18\n",
       "6          27\n",
       "7         182\n",
       "8         773"
      ]
     },
     "execution_count": 54,
     "metadata": {},
     "output_type": "execute_result"
    }
   ],
   "source": [
    "grupo_Dan= Dan_muertes.groupby('season')['death_no'].agg(['count'])\n",
    "grupo_Dan"
   ]
  },
  {
   "cell_type": "code",
   "execution_count": 56,
   "metadata": {},
   "outputs": [
    {
     "data": {
      "text/plain": [
       "<Axes: ylabel='count'>"
      ]
     },
     "execution_count": 56,
     "metadata": {},
     "output_type": "execute_result"
    },
    {
     "data": {
      "image/png": "[encoded data removed]",
      "text/plain": [
       "<Figure size 640x480 with 1 Axes>"
      ]
     },
     "metadata": {},
     "output_type": "display_data"
    }
   ],
   "source": [
    "\n",
    "Dan_muertes.groupby('season')['death_no'].agg(['count']).plot(kind='pie', y='count')"
   ]
  }
 ],
 "metadata": {
  "kernelspec": {
   "display_name": ".venv",
   "language": "python",
   "name": "python3"
  },
  "language_info": {
   "codemirror_mode": {
    "name": "ipython",
    "version": 3
   },
   "file_extension": ".py",
   "mimetype": "text/x-python",
   "name": "python",
   "nbconvert_exporter": "python",
   "pygments_lexer": "ipython3",
   "version": "3.13.2"
  }
 },
 "nbformat": 4,
 "nbformat_minor": 2
}
